{
 "cells": [
  {
   "cell_type": "markdown",
   "id": "e1f2ffe0",
   "metadata": {},
   "source": [
    "## 참고: https://hleecaster.com/ml-linear-regression-example/"
   ]
  },
  {
   "cell_type": "markdown",
   "id": "68454dc7",
   "metadata": {},
   "source": [
    "## 라이브러리 설치, 호출"
   ]
  },
  {
   "cell_type": "markdown",
   "id": "e93443a5",
   "metadata": {},
   "source": [
    "!pip3 install -U scikit-learn<br>\n",
    "!pip3 install pandas<br>\n",
    "!pip3 install numpy<br>\n",
    "!pip3 install matplotlib<br>\n",
    "!pip3 install statsmodels<br>"
   ]
  },
  {
   "cell_type": "code",
   "execution_count": 1,
   "id": "5d627762",
   "metadata": {},
   "outputs": [],
   "source": [
    "import tensorflow as tf\n",
    "import pandas as pd\n",
    "import numpy as np\n",
    "import matplotlib.pyplot as plt\n",
    "import statsmodels.api as sm\n",
    "\n",
    "from tensorflow.keras.models import Sequential, load_model\n",
    "from tensorflow.keras.layers import Dense\n",
    "from tensorflow.keras.optimizers import SGD, Adam\n",
    "from tensorflow.keras.callbacks import ModelCheckpoint, TensorBoard, ReduceLROnPlateau"
   ]
  },
  {
   "cell_type": "markdown",
   "id": "f4b7823f",
   "metadata": {},
   "source": [
    "## 데이터 다운로드 "
   ]
  },
  {
   "cell_type": "code",
   "execution_count": 2,
   "id": "7a59f102",
   "metadata": {},
   "outputs": [
    {
     "name": "stdout",
     "output_type": "stream",
     "text": [
      "   Age Sex ChestPainType  RestingBP  Cholesterol  FastingBS RestingECG  MaxHR  \\\n",
      "0   40   M           ATA        140          289          0     Normal    172   \n",
      "1   49   F           NAP        160          180          0     Normal    156   \n",
      "2   37   M           ATA        130          283          0         ST     98   \n",
      "3   48   F           ASY        138          214          0     Normal    108   \n",
      "4   54   M           NAP        150          195          0     Normal    122   \n",
      "\n",
      "  ExerciseAngina  Oldpeak ST_Slope  HeartDisease  \n",
      "0              N      0.0       Up             0  \n",
      "1              N      1.0     Flat             1  \n",
      "2              N      0.0       Up             0  \n",
      "3              Y      1.5     Flat             1  \n",
      "4              N      0.0       Up             0  \n",
      "(918, 12)\n"
     ]
    }
   ],
   "source": [
    "import pandas as pd\n",
    "df = pd.read_csv('heart.csv')\n",
    "print(df.head())\n",
    "print(df.shape)"
   ]
  },
  {
   "cell_type": "markdown",
   "id": "40f0380b",
   "metadata": {},
   "source": [
    "## Input, Feature 설정"
   ]
  },
  {
   "cell_type": "code",
   "execution_count": 3,
   "id": "71d020c0",
   "metadata": {},
   "outputs": [],
   "source": [
    "Label = df['HeartDisease']\n",
    "InputFeature = df[[\"Age\", \"RestingBP\", \"Cholesterol\", #\"FastingBS\", \n",
    "                   \"MaxHR\"]]"
   ]
  },
  {
   "cell_type": "code",
   "execution_count": 4,
   "id": "73a38234",
   "metadata": {},
   "outputs": [
    {
     "data": {
      "text/html": [
       "<div>\n",
       "<style scoped>\n",
       "    .dataframe tbody tr th:only-of-type {\n",
       "        vertical-align: middle;\n",
       "    }\n",
       "\n",
       "    .dataframe tbody tr th {\n",
       "        vertical-align: top;\n",
       "    }\n",
       "\n",
       "    .dataframe thead th {\n",
       "        text-align: right;\n",
       "    }\n",
       "</style>\n",
       "<table border=\"1\" class=\"dataframe\">\n",
       "  <thead>\n",
       "    <tr style=\"text-align: right;\">\n",
       "      <th></th>\n",
       "      <th>Age</th>\n",
       "      <th>RestingBP</th>\n",
       "      <th>Cholesterol</th>\n",
       "      <th>MaxHR</th>\n",
       "    </tr>\n",
       "  </thead>\n",
       "  <tbody>\n",
       "    <tr>\n",
       "      <th>0</th>\n",
       "      <td>40</td>\n",
       "      <td>140</td>\n",
       "      <td>289</td>\n",
       "      <td>172</td>\n",
       "    </tr>\n",
       "    <tr>\n",
       "      <th>1</th>\n",
       "      <td>49</td>\n",
       "      <td>160</td>\n",
       "      <td>180</td>\n",
       "      <td>156</td>\n",
       "    </tr>\n",
       "    <tr>\n",
       "      <th>2</th>\n",
       "      <td>37</td>\n",
       "      <td>130</td>\n",
       "      <td>283</td>\n",
       "      <td>98</td>\n",
       "    </tr>\n",
       "    <tr>\n",
       "      <th>3</th>\n",
       "      <td>48</td>\n",
       "      <td>138</td>\n",
       "      <td>214</td>\n",
       "      <td>108</td>\n",
       "    </tr>\n",
       "    <tr>\n",
       "      <th>4</th>\n",
       "      <td>54</td>\n",
       "      <td>150</td>\n",
       "      <td>195</td>\n",
       "      <td>122</td>\n",
       "    </tr>\n",
       "  </tbody>\n",
       "</table>\n",
       "</div>"
      ],
      "text/plain": [
       "   Age  RestingBP  Cholesterol  MaxHR\n",
       "0   40        140          289    172\n",
       "1   49        160          180    156\n",
       "2   37        130          283     98\n",
       "3   48        138          214    108\n",
       "4   54        150          195    122"
      ]
     },
     "execution_count": 4,
     "metadata": {},
     "output_type": "execute_result"
    }
   ],
   "source": [
    "InputFeature.head()"
   ]
  },
  {
   "cell_type": "code",
   "execution_count": 5,
   "id": "65d18b8f",
   "metadata": {},
   "outputs": [
    {
     "data": {
      "text/plain": [
       "(918, 4)"
      ]
     },
     "execution_count": 5,
     "metadata": {},
     "output_type": "execute_result"
    }
   ],
   "source": [
    "InputFeature.shape"
   ]
  },
  {
   "cell_type": "markdown",
   "id": "d32c6cf8",
   "metadata": {},
   "source": [
    "## Keras Logit 모델 fitting"
   ]
  },
  {
   "cell_type": "code",
   "execution_count": 6,
   "id": "d7d4e469",
   "metadata": {},
   "outputs": [
    {
     "name": "stdout",
     "output_type": "stream",
     "text": [
      "Metal device set to: Apple M1\n"
     ]
    },
    {
     "name": "stderr",
     "output_type": "stream",
     "text": [
      "2022-07-08 20:55:40.291345: I tensorflow/core/common_runtime/pluggable_device/pluggable_device_factory.cc:305] Could not identify NUMA node of platform GPU ID 0, defaulting to 0. Your kernel may not have been built with NUMA support.\n",
      "2022-07-08 20:55:40.291514: I tensorflow/core/common_runtime/pluggable_device/pluggable_device_factory.cc:271] Created TensorFlow device (/job:localhost/replica:0/task:0/device:GPU:0 with 0 MB memory) -> physical PluggableDevice (device: 0, name: METAL, pci bus id: <undefined>)\n"
     ]
    }
   ],
   "source": [
    "model = Sequential()\n",
    "model.add(Dense(2, activation='linear', input_shape=(4,)))\n",
    "model.add(Dense(4, activation='linear'))\n",
    "model.add(Dense(1, activation='sigmoid'))\n",
    "\n",
    "model.compile(loss='binary_crossentropy',\n",
    "              optimizer=Adam(learning_rate=0.01), metrics=['accuracy'])"
   ]
  },
  {
   "cell_type": "markdown",
   "id": "9094ae0d",
   "metadata": {},
   "source": [
    "## Keras 모델 살펴보기"
   ]
  },
  {
   "cell_type": "code",
   "execution_count": 7,
   "id": "6e0721af",
   "metadata": {},
   "outputs": [
    {
     "name": "stdout",
     "output_type": "stream",
     "text": [
      "Model: \"sequential\"\n",
      "_________________________________________________________________\n",
      " Layer (type)                Output Shape              Param #   \n",
      "=================================================================\n",
      " dense (Dense)               (None, 2)                 10        \n",
      "                                                                 \n",
      " dense_1 (Dense)             (None, 4)                 12        \n",
      "                                                                 \n",
      " dense_2 (Dense)             (None, 1)                 5         \n",
      "                                                                 \n",
      "=================================================================\n",
      "Total params: 27\n",
      "Trainable params: 27\n",
      "Non-trainable params: 0\n",
      "_________________________________________________________________\n"
     ]
    }
   ],
   "source": [
    "model.summary()"
   ]
  },
  {
   "cell_type": "markdown",
   "id": "a3275484",
   "metadata": {},
   "source": [
    "## Call-back 함수\n",
    "## 모델 학습"
   ]
  },
  {
   "cell_type": "code",
   "execution_count": 8,
   "id": "0265eb03",
   "metadata": {},
   "outputs": [],
   "source": [
    "# Call-back 함수\n",
    "# CheckPoint: Epoch 마다 validation 성능을 검증하여, best performance 일 경우 저장\n",
    "CP = ModelCheckpoint(filepath='Models/{epoch:03d}-{loss:.4f}-{accuracy:.4f}.hdf5',\n",
    "            monitor='loss', verbose=1, save_best_only=True, mode='min')\n",
    "\n",
    "# Learning Rate 줄여나가기\n",
    "LR = ReduceLROnPlateau(monitor='loss',factor=0.8,patience=3, verbose=1, min_lr=1e-8)\n",
    "\n",
    "CALLBACK = [CP, LR]"
   ]
  },
  {
   "cell_type": "code",
   "execution_count": 9,
   "id": "19ebe13f",
   "metadata": {},
   "outputs": [
    {
     "name": "stdout",
     "output_type": "stream",
     "text": [
      "Epoch 1/100\n"
     ]
    },
    {
     "name": "stderr",
     "output_type": "stream",
     "text": [
      "2022-07-08 20:55:40.461988: W tensorflow/core/platform/profile_utils/cpu_utils.cc:128] Failed to get CPU frequency: 0 Hz\n"
     ]
    },
    {
     "name": "stdout",
     "output_type": "stream",
     "text": [
      "\r",
      "  1/306 [..............................] - ETA: 2:09 - loss: 68.4958 - accuracy: 0.3333"
     ]
    },
    {
     "name": "stderr",
     "output_type": "stream",
     "text": [
      "2022-07-08 20:55:40.703622: I tensorflow/core/grappler/optimizers/custom_graph_optimizer_registry.cc:113] Plugin optimizer for device_type GPU is enabled.\n"
     ]
    },
    {
     "name": "stdout",
     "output_type": "stream",
     "text": [
      "303/306 [============================>.] - ETA: 0s - loss: 3.0572 - accuracy: 0.5171\n",
      "Epoch 1: loss improved from inf to 3.03404, saving model to Models/001-3.0340-0.5185.hdf5\n",
      "306/306 [==============================] - 2s 6ms/step - loss: 3.0340 - accuracy: 0.5185 - lr: 0.0100\n",
      "Epoch 2/100\n",
      "298/306 [============================>.] - ETA: 0s - loss: 0.8604 - accuracy: 0.5671\n",
      "Epoch 2: loss improved from 3.03404 to 0.85672, saving model to Models/002-0.8567-0.5686.hdf5\n",
      "306/306 [==============================] - 2s 6ms/step - loss: 0.8567 - accuracy: 0.5686 - lr: 0.0100\n",
      "Epoch 3/100\n",
      "304/306 [============================>.] - ETA: 0s - loss: 0.6619 - accuracy: 0.6557\n",
      "Epoch 3: loss improved from 0.85672 to 0.66418, saving model to Models/003-0.6642-0.6547.hdf5\n",
      "306/306 [==============================] - 2s 5ms/step - loss: 0.6642 - accuracy: 0.6547 - lr: 0.0100\n",
      "Epoch 4/100\n",
      "298/306 [============================>.] - ETA: 0s - loss: 0.6206 - accuracy: 0.6544\n",
      "Epoch 4: loss improved from 0.66418 to 0.61704, saving model to Models/004-0.6170-0.6569.hdf5\n",
      "306/306 [==============================] - 2s 5ms/step - loss: 0.6170 - accuracy: 0.6569 - lr: 0.0100\n",
      "Epoch 5/100\n",
      "305/306 [============================>.] - ETA: 0s - loss: 0.6157 - accuracy: 0.6754\n",
      "Epoch 5: loss improved from 0.61704 to 0.61506, saving model to Models/005-0.6151-0.6754.hdf5\n",
      "306/306 [==============================] - 2s 5ms/step - loss: 0.6151 - accuracy: 0.6754 - lr: 0.0100\n",
      "Epoch 6/100\n",
      "305/306 [============================>.] - ETA: 0s - loss: 0.6126 - accuracy: 0.6623\n",
      "Epoch 6: loss improved from 0.61506 to 0.61167, saving model to Models/006-0.6117-0.6634.hdf5\n",
      "306/306 [==============================] - 2s 6ms/step - loss: 0.6117 - accuracy: 0.6634 - lr: 0.0100\n",
      "Epoch 7/100\n",
      "304/306 [============================>.] - ETA: 0s - loss: 0.6232 - accuracy: 0.6798\n",
      "Epoch 7: loss did not improve from 0.61167\n",
      "306/306 [==============================] - 2s 5ms/step - loss: 0.6239 - accuracy: 0.6776 - lr: 0.0100\n",
      "Epoch 8/100\n",
      "301/306 [============================>.] - ETA: 0s - loss: 0.6110 - accuracy: 0.6733\n",
      "Epoch 8: loss improved from 0.61167 to 0.61037, saving model to Models/008-0.6104-0.6743.hdf5\n",
      "306/306 [==============================] - 2s 6ms/step - loss: 0.6104 - accuracy: 0.6743 - lr: 0.0100\n",
      "Epoch 9/100\n",
      "300/306 [============================>.] - ETA: 0s - loss: 0.6264 - accuracy: 0.6533\n",
      "Epoch 9: loss did not improve from 0.61037\n",
      "306/306 [==============================] - 2s 5ms/step - loss: 0.6263 - accuracy: 0.6536 - lr: 0.0100\n",
      "Epoch 10/100\n",
      "300/306 [============================>.] - ETA: 0s - loss: 0.6135 - accuracy: 0.6711\n",
      "Epoch 10: loss improved from 0.61037 to 0.61012, saving model to Models/010-0.6101-0.6754.hdf5\n",
      "306/306 [==============================] - 2s 5ms/step - loss: 0.6101 - accuracy: 0.6754 - lr: 0.0100\n",
      "Epoch 11/100\n",
      "301/306 [============================>.] - ETA: 0s - loss: 0.6155 - accuracy: 0.6689\n",
      "Epoch 11: loss did not improve from 0.61012\n",
      "306/306 [==============================] - 2s 5ms/step - loss: 0.6145 - accuracy: 0.6678 - lr: 0.0100\n",
      "Epoch 12/100\n",
      "301/306 [============================>.] - ETA: 0s - loss: 0.6541 - accuracy: 0.6456\n",
      "Epoch 12: loss did not improve from 0.61012\n",
      "306/306 [==============================] - 2s 5ms/step - loss: 0.6518 - accuracy: 0.6438 - lr: 0.0100\n",
      "Epoch 13/100\n",
      "300/306 [============================>.] - ETA: 0s - loss: 0.6332 - accuracy: 0.6478\n",
      "Epoch 13: loss did not improve from 0.61012\n",
      "\n",
      "Epoch 13: ReduceLROnPlateau reducing learning rate to 0.007999999821186066.\n",
      "306/306 [==============================] - 2s 5ms/step - loss: 0.6291 - accuracy: 0.6514 - lr: 0.0100\n",
      "Epoch 14/100\n",
      "301/306 [============================>.] - ETA: 0s - loss: 0.6202 - accuracy: 0.6800\n",
      "Epoch 14: loss did not improve from 0.61012\n",
      "306/306 [==============================] - 2s 5ms/step - loss: 0.6224 - accuracy: 0.6808 - lr: 0.0080\n",
      "Epoch 15/100\n",
      "300/306 [============================>.] - ETA: 0s - loss: 0.6270 - accuracy: 0.6778\n",
      "Epoch 15: loss did not improve from 0.61012\n",
      "306/306 [==============================] - 2s 5ms/step - loss: 0.6295 - accuracy: 0.6786 - lr: 0.0080\n",
      "Epoch 16/100\n",
      "301/306 [============================>.] - ETA: 0s - loss: 0.6128 - accuracy: 0.6711\n",
      "Epoch 16: loss did not improve from 0.61012\n",
      "\n",
      "Epoch 16: ReduceLROnPlateau reducing learning rate to 0.006399999558925629.\n",
      "306/306 [==============================] - 2s 5ms/step - loss: 0.6160 - accuracy: 0.6678 - lr: 0.0080\n",
      "Epoch 17/100\n",
      "301/306 [============================>.] - ETA: 0s - loss: 0.6121 - accuracy: 0.6766\n",
      "Epoch 17: loss did not improve from 0.61012\n",
      "306/306 [==============================] - 2s 5ms/step - loss: 0.6105 - accuracy: 0.6776 - lr: 0.0064\n",
      "Epoch 18/100\n",
      "300/306 [============================>.] - ETA: 0s - loss: 0.6170 - accuracy: 0.6667\n",
      "Epoch 18: loss did not improve from 0.61012\n",
      "306/306 [==============================] - 2s 5ms/step - loss: 0.6178 - accuracy: 0.6656 - lr: 0.0064\n",
      "Epoch 19/100\n",
      "300/306 [============================>.] - ETA: 0s - loss: 0.6165 - accuracy: 0.6767\n",
      "Epoch 19: loss did not improve from 0.61012\n",
      "\n",
      "Epoch 19: ReduceLROnPlateau reducing learning rate to 0.0051199994981288915.\n",
      "306/306 [==============================] - 2s 5ms/step - loss: 0.6138 - accuracy: 0.6786 - lr: 0.0064\n",
      "Epoch 20/100\n",
      "298/306 [============================>.] - ETA: 0s - loss: 0.6137 - accuracy: 0.6801\n",
      "Epoch 20: loss did not improve from 0.61012\n",
      "306/306 [==============================] - 2s 5ms/step - loss: 0.6145 - accuracy: 0.6786 - lr: 0.0051\n",
      "Epoch 21/100\n",
      "301/306 [============================>.] - ETA: 0s - loss: 0.6024 - accuracy: 0.6689\n",
      "Epoch 21: loss improved from 0.61012 to 0.60059, saving model to Models/021-0.6006-0.6721.hdf5\n",
      "306/306 [==============================] - 2s 5ms/step - loss: 0.6006 - accuracy: 0.6721 - lr: 0.0051\n",
      "Epoch 22/100\n",
      "301/306 [============================>.] - ETA: 0s - loss: 0.6055 - accuracy: 0.6777\n",
      "Epoch 22: loss did not improve from 0.60059\n",
      "306/306 [==============================] - 2s 5ms/step - loss: 0.6086 - accuracy: 0.6765 - lr: 0.0051\n",
      "Epoch 23/100\n",
      "299/306 [============================>.] - ETA: 0s - loss: 0.6090 - accuracy: 0.6834\n",
      "Epoch 23: loss did not improve from 0.60059\n",
      "306/306 [==============================] - 2s 5ms/step - loss: 0.6106 - accuracy: 0.6808 - lr: 0.0051\n",
      "Epoch 24/100\n",
      "299/306 [============================>.] - ETA: 0s - loss: 0.6117 - accuracy: 0.6644\n",
      "Epoch 24: loss did not improve from 0.60059\n",
      "\n",
      "Epoch 24: ReduceLROnPlateau reducing learning rate to 0.004095999523997307.\n",
      "306/306 [==============================] - 2s 5ms/step - loss: 0.6100 - accuracy: 0.6634 - lr: 0.0051\n",
      "Epoch 25/100\n",
      "301/306 [============================>.] - ETA: 0s - loss: 0.5967 - accuracy: 0.6700\n",
      "Epoch 25: loss improved from 0.60059 to 0.59445, saving model to Models/025-0.5944-0.6721.hdf5\n",
      "306/306 [==============================] - 2s 5ms/step - loss: 0.5944 - accuracy: 0.6721 - lr: 0.0041\n",
      "Epoch 26/100\n",
      "306/306 [==============================] - ETA: 0s - loss: 0.6006 - accuracy: 0.6841\n",
      "Epoch 26: loss did not improve from 0.59445\n",
      "306/306 [==============================] - 2s 5ms/step - loss: 0.6006 - accuracy: 0.6841 - lr: 0.0041\n",
      "Epoch 27/100\n",
      "299/306 [============================>.] - ETA: 0s - loss: 0.5887 - accuracy: 0.6890\n",
      "Epoch 27: loss improved from 0.59445 to 0.59084, saving model to Models/027-0.5908-0.6895.hdf5\n",
      "306/306 [==============================] - 2s 5ms/step - loss: 0.5908 - accuracy: 0.6895 - lr: 0.0041\n",
      "Epoch 28/100\n",
      "300/306 [============================>.] - ETA: 0s - loss: 0.6000 - accuracy: 0.7022\n",
      "Epoch 28: loss did not improve from 0.59084\n",
      "306/306 [==============================] - 2s 5ms/step - loss: 0.6042 - accuracy: 0.6950 - lr: 0.0041\n",
      "Epoch 29/100\n",
      "298/306 [============================>.] - ETA: 0s - loss: 0.5998 - accuracy: 0.6801\n",
      "Epoch 29: loss did not improve from 0.59084\n",
      "306/306 [==============================] - 2s 5ms/step - loss: 0.5993 - accuracy: 0.6808 - lr: 0.0041\n",
      "Epoch 30/100\n",
      "299/306 [============================>.] - ETA: 0s - loss: 0.5960 - accuracy: 0.6901\n",
      "Epoch 30: loss did not improve from 0.59084\n",
      "\n",
      "Epoch 30: ReduceLROnPlateau reducing learning rate to 0.0032767996191978457.\n",
      "306/306 [==============================] - 2s 5ms/step - loss: 0.5973 - accuracy: 0.6874 - lr: 0.0041\n"
     ]
    },
    {
     "name": "stdout",
     "output_type": "stream",
     "text": [
      "Epoch 31/100\n",
      "301/306 [============================>.] - ETA: 0s - loss: 0.5952 - accuracy: 0.6811\n",
      "Epoch 31: loss did not improve from 0.59084\n",
      "306/306 [==============================] - 2s 5ms/step - loss: 0.5950 - accuracy: 0.6797 - lr: 0.0033\n",
      "Epoch 32/100\n",
      "303/306 [============================>.] - ETA: 0s - loss: 0.5964 - accuracy: 0.6865\n",
      "Epoch 32: loss did not improve from 0.59084\n",
      "306/306 [==============================] - 2s 5ms/step - loss: 0.5963 - accuracy: 0.6863 - lr: 0.0033\n",
      "Epoch 33/100\n",
      "297/306 [============================>.] - ETA: 0s - loss: 0.5971 - accuracy: 0.6846\n",
      "Epoch 33: loss did not improve from 0.59084\n",
      "\n",
      "Epoch 33: ReduceLROnPlateau reducing learning rate to 0.0026214396581053737.\n",
      "306/306 [==============================] - 2s 5ms/step - loss: 0.5974 - accuracy: 0.6841 - lr: 0.0033\n",
      "Epoch 34/100\n",
      "300/306 [============================>.] - ETA: 0s - loss: 0.5885 - accuracy: 0.6756\n",
      "Epoch 34: loss improved from 0.59084 to 0.58916, saving model to Models/034-0.5892-0.6765.hdf5\n",
      "306/306 [==============================] - 2s 5ms/step - loss: 0.5892 - accuracy: 0.6765 - lr: 0.0026\n",
      "Epoch 35/100\n",
      "297/306 [============================>.] - ETA: 0s - loss: 0.5884 - accuracy: 0.6880\n",
      "Epoch 35: loss improved from 0.58916 to 0.58681, saving model to Models/035-0.5868-0.6885.hdf5\n",
      "306/306 [==============================] - 2s 5ms/step - loss: 0.5868 - accuracy: 0.6885 - lr: 0.0026\n",
      "Epoch 36/100\n",
      "301/306 [============================>.] - ETA: 0s - loss: 0.5934 - accuracy: 0.6755\n",
      "Epoch 36: loss did not improve from 0.58681\n",
      "306/306 [==============================] - 2s 5ms/step - loss: 0.5913 - accuracy: 0.6786 - lr: 0.0026\n",
      "Epoch 37/100\n",
      "301/306 [============================>.] - ETA: 0s - loss: 0.5893 - accuracy: 0.6944\n",
      "Epoch 37: loss did not improve from 0.58681\n",
      "306/306 [==============================] - 2s 5ms/step - loss: 0.5905 - accuracy: 0.6928 - lr: 0.0026\n",
      "Epoch 38/100\n",
      "301/306 [============================>.] - ETA: 0s - loss: 0.5919 - accuracy: 0.6822\n",
      "Epoch 38: loss did not improve from 0.58681\n",
      "\n",
      "Epoch 38: ReduceLROnPlateau reducing learning rate to 0.0020971518009901048.\n",
      "306/306 [==============================] - 2s 5ms/step - loss: 0.5901 - accuracy: 0.6841 - lr: 0.0026\n",
      "Epoch 39/100\n",
      "301/306 [============================>.] - ETA: 0s - loss: 0.5881 - accuracy: 0.6966\n",
      "Epoch 39: loss improved from 0.58681 to 0.58674, saving model to Models/039-0.5867-0.6983.hdf5\n",
      "306/306 [==============================] - 2s 5ms/step - loss: 0.5867 - accuracy: 0.6983 - lr: 0.0021\n",
      "Epoch 40/100\n",
      "300/306 [============================>.] - ETA: 0s - loss: 0.5860 - accuracy: 0.6889\n",
      "Epoch 40: loss did not improve from 0.58674\n",
      "306/306 [==============================] - 2s 5ms/step - loss: 0.5913 - accuracy: 0.6830 - lr: 0.0021\n",
      "Epoch 41/100\n",
      "299/306 [============================>.] - ETA: 0s - loss: 0.5909 - accuracy: 0.6990\n",
      "Epoch 41: loss did not improve from 0.58674\n",
      "\n",
      "Epoch 41: ReduceLROnPlateau reducing learning rate to 0.0016777213662862779.\n",
      "306/306 [==============================] - 2s 5ms/step - loss: 0.5924 - accuracy: 0.6983 - lr: 0.0021\n",
      "Epoch 42/100\n",
      "301/306 [============================>.] - ETA: 0s - loss: 0.5882 - accuracy: 0.6877\n",
      "Epoch 42: loss did not improve from 0.58674\n",
      "306/306 [==============================] - 2s 5ms/step - loss: 0.5879 - accuracy: 0.6885 - lr: 0.0017\n",
      "Epoch 43/100\n",
      "301/306 [============================>.] - ETA: 0s - loss: 0.5858 - accuracy: 0.6833\n",
      "Epoch 43: loss did not improve from 0.58674\n",
      "306/306 [==============================] - 2s 5ms/step - loss: 0.5873 - accuracy: 0.6808 - lr: 0.0017\n",
      "Epoch 44/100\n",
      "301/306 [============================>.] - ETA: 0s - loss: 0.5885 - accuracy: 0.6944\n",
      "Epoch 44: loss did not improve from 0.58674\n",
      "\n",
      "Epoch 44: ReduceLROnPlateau reducing learning rate to 0.0013421771116554739.\n",
      "306/306 [==============================] - 2s 5ms/step - loss: 0.5876 - accuracy: 0.6961 - lr: 0.0017\n",
      "Epoch 45/100\n",
      "300/306 [============================>.] - ETA: 0s - loss: 0.5881 - accuracy: 0.7033\n",
      "Epoch 45: loss improved from 0.58674 to 0.58632, saving model to Models/045-0.5863-0.7059.hdf5\n",
      "306/306 [==============================] - 2s 5ms/step - loss: 0.5863 - accuracy: 0.7059 - lr: 0.0013\n",
      "Epoch 46/100\n",
      "301/306 [============================>.] - ETA: 0s - loss: 0.5851 - accuracy: 0.6888\n",
      "Epoch 46: loss improved from 0.58632 to 0.58509, saving model to Models/046-0.5851-0.6885.hdf5\n",
      "306/306 [==============================] - 2s 5ms/step - loss: 0.5851 - accuracy: 0.6885 - lr: 0.0013\n",
      "Epoch 47/100\n",
      "302/306 [============================>.] - ETA: 0s - loss: 0.5871 - accuracy: 0.6932\n",
      "Epoch 47: loss did not improve from 0.58509\n",
      "306/306 [==============================] - 2s 5ms/step - loss: 0.5856 - accuracy: 0.6950 - lr: 0.0013\n",
      "Epoch 48/100\n",
      "299/306 [============================>.] - ETA: 0s - loss: 0.5804 - accuracy: 0.7001\n",
      "Epoch 48: loss improved from 0.58509 to 0.58327, saving model to Models/048-0.5833-0.6972.hdf5\n",
      "306/306 [==============================] - 2s 5ms/step - loss: 0.5833 - accuracy: 0.6972 - lr: 0.0013\n",
      "Epoch 49/100\n",
      "303/306 [============================>.] - ETA: 0s - loss: 0.5813 - accuracy: 0.6909\n",
      "Epoch 49: loss improved from 0.58327 to 0.58042, saving model to Models/049-0.5804-0.6917.hdf5\n",
      "306/306 [==============================] - 2s 5ms/step - loss: 0.5804 - accuracy: 0.6917 - lr: 0.0013\n",
      "Epoch 50/100\n",
      "301/306 [============================>.] - ETA: 0s - loss: 0.5855 - accuracy: 0.6944\n",
      "Epoch 50: loss did not improve from 0.58042\n",
      "306/306 [==============================] - 2s 5ms/step - loss: 0.5854 - accuracy: 0.6939 - lr: 0.0013\n",
      "Epoch 51/100\n",
      "301/306 [============================>.] - ETA: 0s - loss: 0.5857 - accuracy: 0.6866\n",
      "Epoch 51: loss did not improve from 0.58042\n",
      "306/306 [==============================] - 2s 5ms/step - loss: 0.5841 - accuracy: 0.6874 - lr: 0.0013\n",
      "Epoch 52/100\n",
      "300/306 [============================>.] - ETA: 0s - loss: 0.5884 - accuracy: 0.6811\n",
      "Epoch 52: loss did not improve from 0.58042\n",
      "\n",
      "Epoch 52: ReduceLROnPlateau reducing learning rate to 0.001073741726577282.\n",
      "306/306 [==============================] - 2s 5ms/step - loss: 0.5869 - accuracy: 0.6852 - lr: 0.0013\n",
      "Epoch 53/100\n",
      "300/306 [============================>.] - ETA: 0s - loss: 0.5784 - accuracy: 0.6978\n",
      "Epoch 53: loss did not improve from 0.58042\n",
      "306/306 [==============================] - 2s 5ms/step - loss: 0.5828 - accuracy: 0.6939 - lr: 0.0011\n",
      "Epoch 54/100\n",
      "298/306 [============================>.] - ETA: 0s - loss: 0.5826 - accuracy: 0.6946\n",
      "Epoch 54: loss did not improve from 0.58042\n",
      "306/306 [==============================] - 2s 5ms/step - loss: 0.5832 - accuracy: 0.6983 - lr: 0.0011\n",
      "Epoch 55/100\n",
      "299/306 [============================>.] - ETA: 0s - loss: 0.5838 - accuracy: 0.6945\n",
      "Epoch 55: loss did not improve from 0.58042\n",
      "\n",
      "Epoch 55: ReduceLROnPlateau reducing learning rate to 0.0008589933626353742.\n",
      "306/306 [==============================] - 2s 5ms/step - loss: 0.5856 - accuracy: 0.6917 - lr: 0.0011\n",
      "Epoch 56/100\n",
      "297/306 [============================>.] - ETA: 0s - loss: 0.5815 - accuracy: 0.6936\n",
      "Epoch 56: loss did not improve from 0.58042\n",
      "306/306 [==============================] - 2s 6ms/step - loss: 0.5819 - accuracy: 0.6895 - lr: 8.5899e-04\n",
      "Epoch 57/100\n",
      "305/306 [============================>.] - ETA: 0s - loss: 0.5839 - accuracy: 0.7016\n",
      "Epoch 57: loss did not improve from 0.58042\n",
      "306/306 [==============================] - 2s 5ms/step - loss: 0.5835 - accuracy: 0.7026 - lr: 8.5899e-04\n",
      "Epoch 58/100\n",
      "300/306 [============================>.] - ETA: 0s - loss: 0.5860 - accuracy: 0.6889\n",
      "Epoch 58: loss did not improve from 0.58042\n",
      "\n",
      "Epoch 58: ReduceLROnPlateau reducing learning rate to 0.0006871947087347508.\n",
      "306/306 [==============================] - 2s 5ms/step - loss: 0.5834 - accuracy: 0.6906 - lr: 8.5899e-04\n",
      "Epoch 59/100\n",
      "303/306 [============================>.] - ETA: 0s - loss: 0.5827 - accuracy: 0.6821\n",
      "Epoch 59: loss did not improve from 0.58042\n",
      "306/306 [==============================] - 2s 5ms/step - loss: 0.5818 - accuracy: 0.6830 - lr: 6.8719e-04\n",
      "Epoch 60/100\n",
      "298/306 [============================>.] - ETA: 0s - loss: 0.5855 - accuracy: 0.7002\n",
      "Epoch 60: loss did not improve from 0.58042\n",
      "306/306 [==============================] - 2s 5ms/step - loss: 0.5820 - accuracy: 0.7026 - lr: 6.8719e-04\n"
     ]
    },
    {
     "name": "stdout",
     "output_type": "stream",
     "text": [
      "Epoch 61/100\n",
      "303/306 [============================>.] - ETA: 0s - loss: 0.5845 - accuracy: 0.6975\n",
      "Epoch 61: loss did not improve from 0.58042\n",
      "\n",
      "Epoch 61: ReduceLROnPlateau reducing learning rate to 0.0005497557576745749.\n",
      "306/306 [==============================] - 2s 5ms/step - loss: 0.5831 - accuracy: 0.6993 - lr: 6.8719e-04\n",
      "Epoch 62/100\n",
      "302/306 [============================>.] - ETA: 0s - loss: 0.5810 - accuracy: 0.6898\n",
      "Epoch 62: loss did not improve from 0.58042\n",
      "306/306 [==============================] - 2s 5ms/step - loss: 0.5812 - accuracy: 0.6906 - lr: 5.4976e-04\n",
      "Epoch 63/100\n",
      "297/306 [============================>.] - ETA: 0s - loss: 0.5805 - accuracy: 0.6914\n",
      "Epoch 63: loss did not improve from 0.58042\n",
      "306/306 [==============================] - 2s 5ms/step - loss: 0.5813 - accuracy: 0.6917 - lr: 5.4976e-04\n",
      "Epoch 64/100\n",
      "305/306 [============================>.] - ETA: 0s - loss: 0.5826 - accuracy: 0.6863\n",
      "Epoch 64: loss did not improve from 0.58042\n",
      "\n",
      "Epoch 64: ReduceLROnPlateau reducing learning rate to 0.0004398046061396599.\n",
      "306/306 [==============================] - 2s 5ms/step - loss: 0.5821 - accuracy: 0.6863 - lr: 5.4976e-04\n",
      "Epoch 65/100\n",
      "297/306 [============================>.] - ETA: 0s - loss: 0.5801 - accuracy: 0.6902\n",
      "Epoch 65: loss improved from 0.58042 to 0.57981, saving model to Models/065-0.5798-0.6928.hdf5\n",
      "306/306 [==============================] - 2s 5ms/step - loss: 0.5798 - accuracy: 0.6928 - lr: 4.3980e-04\n",
      "Epoch 66/100\n",
      "300/306 [============================>.] - ETA: 0s - loss: 0.5831 - accuracy: 0.6944\n",
      "Epoch 66: loss did not improve from 0.57981\n",
      "306/306 [==============================] - 2s 5ms/step - loss: 0.5800 - accuracy: 0.6961 - lr: 4.3980e-04\n",
      "Epoch 67/100\n",
      "303/306 [============================>.] - ETA: 0s - loss: 0.5804 - accuracy: 0.6942\n",
      "Epoch 67: loss did not improve from 0.57981\n",
      "306/306 [==============================] - 2s 5ms/step - loss: 0.5811 - accuracy: 0.6906 - lr: 4.3980e-04\n",
      "Epoch 68/100\n",
      "299/306 [============================>.] - ETA: 0s - loss: 0.5794 - accuracy: 0.6979\n",
      "Epoch 68: loss did not improve from 0.57981\n",
      "\n",
      "Epoch 68: ReduceLROnPlateau reducing learning rate to 0.00035184368025511505.\n",
      "306/306 [==============================] - 2s 5ms/step - loss: 0.5804 - accuracy: 0.6983 - lr: 4.3980e-04\n",
      "Epoch 69/100\n",
      "305/306 [============================>.] - ETA: 0s - loss: 0.5793 - accuracy: 0.6951\n",
      "Epoch 69: loss improved from 0.57981 to 0.57925, saving model to Models/069-0.5792-0.6950.hdf5\n",
      "306/306 [==============================] - 2s 6ms/step - loss: 0.5792 - accuracy: 0.6950 - lr: 3.5184e-04\n",
      "Epoch 70/100\n",
      "300/306 [============================>.] - ETA: 0s - loss: 0.5814 - accuracy: 0.6956\n",
      "Epoch 70: loss did not improve from 0.57925\n",
      "306/306 [==============================] - 2s 5ms/step - loss: 0.5793 - accuracy: 0.6972 - lr: 3.5184e-04\n",
      "Epoch 71/100\n",
      "306/306 [==============================] - ETA: 0s - loss: 0.5797 - accuracy: 0.6993\n",
      "Epoch 71: loss did not improve from 0.57925\n",
      "306/306 [==============================] - 2s 6ms/step - loss: 0.5797 - accuracy: 0.6993 - lr: 3.5184e-04\n",
      "Epoch 72/100\n",
      "304/306 [============================>.] - ETA: 0s - loss: 0.5795 - accuracy: 0.6908\n",
      "Epoch 72: loss did not improve from 0.57925\n",
      "\n",
      "Epoch 72: ReduceLROnPlateau reducing learning rate to 0.0002814749488607049.\n",
      "306/306 [==============================] - 2s 6ms/step - loss: 0.5799 - accuracy: 0.6906 - lr: 3.5184e-04\n",
      "Epoch 73/100\n",
      "300/306 [============================>.] - ETA: 0s - loss: 0.5799 - accuracy: 0.6978\n",
      "Epoch 73: loss did not improve from 0.57925\n",
      "306/306 [==============================] - 2s 5ms/step - loss: 0.5796 - accuracy: 0.6983 - lr: 2.8147e-04\n",
      "Epoch 74/100\n",
      "301/306 [============================>.] - ETA: 0s - loss: 0.5802 - accuracy: 0.6977\n",
      "Epoch 74: loss did not improve from 0.57925\n",
      "306/306 [==============================] - 2s 5ms/step - loss: 0.5799 - accuracy: 0.6972 - lr: 2.8147e-04\n",
      "Epoch 75/100\n",
      "301/306 [============================>.] - ETA: 0s - loss: 0.5786 - accuracy: 0.6921\n",
      "Epoch 75: loss improved from 0.57925 to 0.57917, saving model to Models/075-0.5792-0.6928.hdf5\n",
      "\n",
      "Epoch 75: ReduceLROnPlateau reducing learning rate to 0.0002251799684017897.\n",
      "306/306 [==============================] - 2s 5ms/step - loss: 0.5792 - accuracy: 0.6928 - lr: 2.8147e-04\n",
      "Epoch 76/100\n",
      "301/306 [============================>.] - ETA: 0s - loss: 0.5785 - accuracy: 0.6988\n",
      "Epoch 76: loss improved from 0.57917 to 0.57899, saving model to Models/076-0.5790-0.6972.hdf5\n",
      "306/306 [==============================] - 2s 5ms/step - loss: 0.5790 - accuracy: 0.6972 - lr: 2.2518e-04\n",
      "Epoch 77/100\n",
      "301/306 [============================>.] - ETA: 0s - loss: 0.5798 - accuracy: 0.6899\n",
      "Epoch 77: loss did not improve from 0.57899\n",
      "306/306 [==============================] - 2s 5ms/step - loss: 0.5791 - accuracy: 0.6906 - lr: 2.2518e-04\n",
      "Epoch 78/100\n",
      "301/306 [============================>.] - ETA: 0s - loss: 0.5758 - accuracy: 0.7032\n",
      "Epoch 78: loss improved from 0.57899 to 0.57873, saving model to Models/078-0.5787-0.7015.hdf5\n",
      "306/306 [==============================] - 2s 5ms/step - loss: 0.5787 - accuracy: 0.7015 - lr: 2.2518e-04\n",
      "Epoch 79/100\n",
      "301/306 [============================>.] - ETA: 0s - loss: 0.5808 - accuracy: 0.6955\n",
      "Epoch 79: loss did not improve from 0.57873\n",
      "306/306 [==============================] - 2s 5ms/step - loss: 0.5793 - accuracy: 0.6961 - lr: 2.2518e-04\n",
      "Epoch 80/100\n",
      "301/306 [============================>.] - ETA: 0s - loss: 0.5776 - accuracy: 0.7010\n",
      "Epoch 80: loss did not improve from 0.57873\n",
      "306/306 [==============================] - 2s 5ms/step - loss: 0.5791 - accuracy: 0.6993 - lr: 2.2518e-04\n",
      "Epoch 81/100\n",
      "301/306 [============================>.] - ETA: 0s - loss: 0.5786 - accuracy: 0.7021\n",
      "Epoch 81: loss improved from 0.57873 to 0.57849, saving model to Models/081-0.5785-0.7026.hdf5\n",
      "306/306 [==============================] - 2s 5ms/step - loss: 0.5785 - accuracy: 0.7026 - lr: 2.2518e-04\n",
      "Epoch 82/100\n",
      "301/306 [============================>.] - ETA: 0s - loss: 0.5780 - accuracy: 0.6977\n",
      "Epoch 82: loss improved from 0.57849 to 0.57832, saving model to Models/082-0.5783-0.6983.hdf5\n",
      "306/306 [==============================] - 2s 5ms/step - loss: 0.5783 - accuracy: 0.6983 - lr: 2.2518e-04\n",
      "Epoch 83/100\n",
      "304/306 [============================>.] - ETA: 0s - loss: 0.5811 - accuracy: 0.6930\n",
      "Epoch 83: loss did not improve from 0.57832\n",
      "306/306 [==============================] - 2s 5ms/step - loss: 0.5794 - accuracy: 0.6950 - lr: 2.2518e-04\n",
      "Epoch 84/100\n",
      "301/306 [============================>.] - ETA: 0s - loss: 0.5815 - accuracy: 0.6910\n",
      "Epoch 84: loss did not improve from 0.57832\n",
      "306/306 [==============================] - 2s 5ms/step - loss: 0.5792 - accuracy: 0.6928 - lr: 2.2518e-04\n",
      "Epoch 85/100\n",
      "300/306 [============================>.] - ETA: 0s - loss: 0.5816 - accuracy: 0.6922\n",
      "Epoch 85: loss did not improve from 0.57832\n",
      "\n",
      "Epoch 85: ReduceLROnPlateau reducing learning rate to 0.0001801439793780446.\n",
      "306/306 [==============================] - 2s 5ms/step - loss: 0.5790 - accuracy: 0.6961 - lr: 2.2518e-04\n",
      "Epoch 86/100\n",
      "300/306 [============================>.] - ETA: 0s - loss: 0.5767 - accuracy: 0.6956\n",
      "Epoch 86: loss did not improve from 0.57832\n",
      "306/306 [==============================] - 2s 5ms/step - loss: 0.5786 - accuracy: 0.6950 - lr: 1.8014e-04\n",
      "Epoch 87/100\n",
      "301/306 [============================>.] - ETA: 0s - loss: 0.5803 - accuracy: 0.6932\n",
      "Epoch 87: loss did not improve from 0.57832\n",
      "306/306 [==============================] - 2s 5ms/step - loss: 0.5786 - accuracy: 0.6950 - lr: 1.8014e-04\n",
      "Epoch 88/100\n",
      "301/306 [============================>.] - ETA: 0s - loss: 0.5801 - accuracy: 0.6988\n",
      "Epoch 88: loss did not improve from 0.57832\n",
      "\n",
      "Epoch 88: ReduceLROnPlateau reducing learning rate to 0.00014411518350243568.\n",
      "306/306 [==============================] - 2s 5ms/step - loss: 0.5786 - accuracy: 0.7004 - lr: 1.8014e-04\n",
      "Epoch 89/100\n",
      "299/306 [============================>.] - ETA: 0s - loss: 0.5767 - accuracy: 0.7001\n",
      "Epoch 89: loss did not improve from 0.57832\n",
      "306/306 [==============================] - 2s 5ms/step - loss: 0.5786 - accuracy: 0.6972 - lr: 1.4412e-04\n",
      "Epoch 90/100\n"
     ]
    },
    {
     "name": "stdout",
     "output_type": "stream",
     "text": [
      "301/306 [============================>.] - ETA: 0s - loss: 0.5788 - accuracy: 0.6944\n",
      "Epoch 90: loss improved from 0.57832 to 0.57829, saving model to Models/090-0.5783-0.6950.hdf5\n",
      "306/306 [==============================] - 2s 5ms/step - loss: 0.5783 - accuracy: 0.6950 - lr: 1.4412e-04\n",
      "Epoch 91/100\n",
      "301/306 [============================>.] - ETA: 0s - loss: 0.5803 - accuracy: 0.6977\n",
      "Epoch 91: loss improved from 0.57829 to 0.57806, saving model to Models/091-0.5781-0.6993.hdf5\n",
      "306/306 [==============================] - 2s 5ms/step - loss: 0.5781 - accuracy: 0.6993 - lr: 1.4412e-04\n",
      "Epoch 92/100\n",
      "301/306 [============================>.] - ETA: 0s - loss: 0.5784 - accuracy: 0.6988\n",
      "Epoch 92: loss did not improve from 0.57806\n",
      "306/306 [==============================] - 2s 5ms/step - loss: 0.5786 - accuracy: 0.6983 - lr: 1.4412e-04\n",
      "Epoch 93/100\n",
      "301/306 [============================>.] - ETA: 0s - loss: 0.5796 - accuracy: 0.7010\n",
      "Epoch 93: loss did not improve from 0.57806\n",
      "306/306 [==============================] - 2s 5ms/step - loss: 0.5789 - accuracy: 0.7004 - lr: 1.4412e-04\n",
      "Epoch 94/100\n",
      "301/306 [============================>.] - ETA: 0s - loss: 0.5793 - accuracy: 0.6921\n",
      "Epoch 94: loss did not improve from 0.57806\n",
      "\n",
      "Epoch 94: ReduceLROnPlateau reducing learning rate to 0.00011529214680194855.\n",
      "306/306 [==============================] - 2s 5ms/step - loss: 0.5783 - accuracy: 0.6928 - lr: 1.4412e-04\n",
      "Epoch 95/100\n",
      "301/306 [============================>.] - ETA: 0s - loss: 0.5770 - accuracy: 0.6899\n",
      "Epoch 95: loss did not improve from 0.57806\n",
      "306/306 [==============================] - 2s 5ms/step - loss: 0.5781 - accuracy: 0.6895 - lr: 1.1529e-04\n",
      "Epoch 96/100\n",
      "298/306 [============================>.] - ETA: 0s - loss: 0.5822 - accuracy: 0.6913\n",
      "Epoch 96: loss improved from 0.57806 to 0.57790, saving model to Models/096-0.5779-0.6950.hdf5\n",
      "306/306 [==============================] - 2s 5ms/step - loss: 0.5779 - accuracy: 0.6950 - lr: 1.1529e-04\n",
      "Epoch 97/100\n",
      "301/306 [============================>.] - ETA: 0s - loss: 0.5792 - accuracy: 0.6910\n",
      "Epoch 97: loss did not improve from 0.57790\n",
      "306/306 [==============================] - 2s 5ms/step - loss: 0.5780 - accuracy: 0.6928 - lr: 1.1529e-04\n",
      "Epoch 98/100\n",
      "301/306 [============================>.] - ETA: 0s - loss: 0.5773 - accuracy: 0.6944\n",
      "Epoch 98: loss did not improve from 0.57790\n",
      "306/306 [==============================] - 2s 5ms/step - loss: 0.5782 - accuracy: 0.6961 - lr: 1.1529e-04\n",
      "Epoch 99/100\n",
      "303/306 [============================>.] - ETA: 0s - loss: 0.5785 - accuracy: 0.6964\n",
      "Epoch 99: loss did not improve from 0.57790\n",
      "\n",
      "Epoch 99: ReduceLROnPlateau reducing learning rate to 9.223371744155885e-05.\n",
      "306/306 [==============================] - 2s 5ms/step - loss: 0.5781 - accuracy: 0.6961 - lr: 1.1529e-04\n",
      "Epoch 100/100\n",
      "299/306 [============================>.] - ETA: 0s - loss: 0.5795 - accuracy: 0.6990\n",
      "Epoch 100: loss did not improve from 0.57790\n",
      "306/306 [==============================] - 2s 5ms/step - loss: 0.5781 - accuracy: 0.6983 - lr: 9.2234e-05\n"
     ]
    },
    {
     "data": {
      "text/plain": [
       "<keras.callbacks.History at 0x29d3ecfa0>"
      ]
     },
     "execution_count": 9,
     "metadata": {},
     "output_type": "execute_result"
    }
   ],
   "source": [
    "model.fit(x=InputFeature, y=Label, epochs=100, shuffle=True, batch_size=3, callbacks=CALLBACK)"
   ]
  },
  {
   "cell_type": "markdown",
   "id": "8cc549da",
   "metadata": {},
   "source": [
    "# Model Load 하기 전, hdf5 파일 이름 꼭 확인하기"
   ]
  },
  {
   "cell_type": "code",
   "execution_count": 10,
   "id": "82688a7e",
   "metadata": {},
   "outputs": [],
   "source": [
    "model.load_weights(\"Models/100-0.5780-0.6961.hdf5\")"
   ]
  },
  {
   "cell_type": "markdown",
   "id": "e1d15266",
   "metadata": {},
   "source": [
    "## FLASK 셋팅하기"
   ]
  },
  {
   "cell_type": "code",
   "execution_count": 11,
   "id": "70d0c1e1",
   "metadata": {},
   "outputs": [],
   "source": [
    "from flask import Flask\n",
    "from flask import render_template\n",
    "from flask import request"
   ]
  },
  {
   "cell_type": "code",
   "execution_count": 12,
   "id": "56773ef9",
   "metadata": {},
   "outputs": [],
   "source": [
    "app = Flask(__name__)"
   ]
  },
  {
   "cell_type": "markdown",
   "id": "222a9e28",
   "metadata": {},
   "source": [
    "# FLASK API 구현부분"
   ]
  },
  {
   "cell_type": "code",
   "execution_count": 13,
   "id": "bc0c3b82",
   "metadata": {
    "scrolled": true
   },
   "outputs": [],
   "source": [
    "@app.route('/')\n",
    "@app.route('/HeartDisease')\n",
    "def HeartDiseasePrediction():\n",
    "    Age = request.args.get(\"Age\")\n",
    "    RestingBP = request.args.get(\"RestingBP\")\n",
    "    Cholesterol = request.args.get(\"Cholesterol\")\n",
    "    MaxHR = request.args.get(\"MaxHR\")\n",
    "    \n",
    "       \n",
    "    if Age == None or RestingBP == None:\n",
    "        return render_template('HeartDisease.html', Output = '')\n",
    "    \n",
    "    Input = pd.DataFrame({\n",
    "        'Age': [ float(Age) ],\n",
    "        'RestingBP': [ float(RestingBP) ],\n",
    "        'Cholesterol': [ float(Cholesterol) ],\n",
    "        'MaxHR': [ float(MaxHR) ]\n",
    "    }) #진석이 바부\n",
    "    ModelOutput = model.predict(Input)[0][0]\n",
    "\n",
    "    return render_template('HeartDisease.html', Output = ModelOutput * 100)"
   ]
  },
  {
   "cell_type": "markdown",
   "id": "eddf9d92",
   "metadata": {},
   "source": [
    "# Flask, port 5000으로 실행"
   ]
  },
  {
   "cell_type": "code",
   "execution_count": 14,
   "id": "9e8821ba",
   "metadata": {
    "scrolled": true
   },
   "outputs": [
    {
     "name": "stdout",
     "output_type": "stream",
     "text": [
      " * Serving Flask app '__main__' (lazy loading)\n",
      " * Environment: production\n",
      "\u001b[31m   WARNING: This is a development server. Do not use it in a production deployment.\u001b[0m\n",
      "\u001b[2m   Use a production WSGI server instead.\u001b[0m\n",
      " * Debug mode: off\n"
     ]
    },
    {
     "ename": "OSError",
     "evalue": "[Errno 48] Address already in use",
     "output_type": "error",
     "traceback": [
      "\u001b[0;31m---------------------------------------------------------------------------\u001b[0m",
      "\u001b[0;31mOSError\u001b[0m                                   Traceback (most recent call last)",
      "Input \u001b[0;32mIn [14]\u001b[0m, in \u001b[0;36m<cell line: 1>\u001b[0;34m()\u001b[0m\n\u001b[0;32m----> 1\u001b[0m \u001b[43mapp\u001b[49m\u001b[38;5;241;43m.\u001b[39;49m\u001b[43mrun\u001b[49m\u001b[43m(\u001b[49m\u001b[43mhost\u001b[49m\u001b[38;5;241;43m=\u001b[39;49m\u001b[38;5;124;43m'\u001b[39;49m\u001b[38;5;124;43m0.0.0.0\u001b[39;49m\u001b[38;5;124;43m'\u001b[39;49m\u001b[43m,\u001b[49m\u001b[43m \u001b[49m\u001b[43mport\u001b[49m\u001b[38;5;241;43m=\u001b[39;49m\u001b[38;5;241;43m5000\u001b[39;49m\u001b[43m)\u001b[49m\n",
      "File \u001b[0;32m~/miniforge3/envs/jedi/lib/python3.8/site-packages/flask/app.py:920\u001b[0m, in \u001b[0;36mFlask.run\u001b[0;34m(self, host, port, debug, load_dotenv, **options)\u001b[0m\n\u001b[1;32m    917\u001b[0m \u001b[38;5;28;01mfrom\u001b[39;00m \u001b[38;5;21;01mwerkzeug\u001b[39;00m\u001b[38;5;21;01m.\u001b[39;00m\u001b[38;5;21;01mserving\u001b[39;00m \u001b[38;5;28;01mimport\u001b[39;00m run_simple\n\u001b[1;32m    919\u001b[0m \u001b[38;5;28;01mtry\u001b[39;00m:\n\u001b[0;32m--> 920\u001b[0m     \u001b[43mrun_simple\u001b[49m\u001b[43m(\u001b[49m\u001b[43mt\u001b[49m\u001b[38;5;241;43m.\u001b[39;49m\u001b[43mcast\u001b[49m\u001b[43m(\u001b[49m\u001b[38;5;28;43mstr\u001b[39;49m\u001b[43m,\u001b[49m\u001b[43m \u001b[49m\u001b[43mhost\u001b[49m\u001b[43m)\u001b[49m\u001b[43m,\u001b[49m\u001b[43m \u001b[49m\u001b[43mport\u001b[49m\u001b[43m,\u001b[49m\u001b[43m \u001b[49m\u001b[38;5;28;43mself\u001b[39;49m\u001b[43m,\u001b[49m\u001b[43m \u001b[49m\u001b[38;5;241;43m*\u001b[39;49m\u001b[38;5;241;43m*\u001b[39;49m\u001b[43moptions\u001b[49m\u001b[43m)\u001b[49m\n\u001b[1;32m    921\u001b[0m \u001b[38;5;28;01mfinally\u001b[39;00m:\n\u001b[1;32m    922\u001b[0m     \u001b[38;5;66;03m# reset the first request information if the development server\u001b[39;00m\n\u001b[1;32m    923\u001b[0m     \u001b[38;5;66;03m# reset normally.  This makes it possible to restart the server\u001b[39;00m\n\u001b[1;32m    924\u001b[0m     \u001b[38;5;66;03m# without reloader and that stuff from an interactive shell.\u001b[39;00m\n\u001b[1;32m    925\u001b[0m     \u001b[38;5;28mself\u001b[39m\u001b[38;5;241m.\u001b[39m_got_first_request \u001b[38;5;241m=\u001b[39m \u001b[38;5;28;01mFalse\u001b[39;00m\n",
      "File \u001b[0;32m~/miniforge3/envs/jedi/lib/python3.8/site-packages/werkzeug/serving.py:1017\u001b[0m, in \u001b[0;36mrun_simple\u001b[0;34m(hostname, port, application, use_reloader, use_debugger, use_evalex, extra_files, exclude_patterns, reloader_interval, reloader_type, threaded, processes, request_handler, static_files, passthrough_errors, ssl_context)\u001b[0m\n\u001b[1;32m   1009\u001b[0m     _rwr(\n\u001b[1;32m   1010\u001b[0m         inner,\n\u001b[1;32m   1011\u001b[0m         extra_files\u001b[38;5;241m=\u001b[39mextra_files,\n\u001b[0;32m   (...)\u001b[0m\n\u001b[1;32m   1014\u001b[0m         reloader_type\u001b[38;5;241m=\u001b[39mreloader_type,\n\u001b[1;32m   1015\u001b[0m     )\n\u001b[1;32m   1016\u001b[0m \u001b[38;5;28;01melse\u001b[39;00m:\n\u001b[0;32m-> 1017\u001b[0m     \u001b[43minner\u001b[49m\u001b[43m(\u001b[49m\u001b[43m)\u001b[49m\n",
      "File \u001b[0;32m~/miniforge3/envs/jedi/lib/python3.8/site-packages/werkzeug/serving.py:957\u001b[0m, in \u001b[0;36mrun_simple.<locals>.inner\u001b[0;34m()\u001b[0m\n\u001b[1;32m    955\u001b[0m \u001b[38;5;28;01mexcept\u001b[39;00m (\u001b[38;5;167;01mLookupError\u001b[39;00m, \u001b[38;5;167;01mValueError\u001b[39;00m):\n\u001b[1;32m    956\u001b[0m     fd \u001b[38;5;241m=\u001b[39m \u001b[38;5;28;01mNone\u001b[39;00m\n\u001b[0;32m--> 957\u001b[0m srv \u001b[38;5;241m=\u001b[39m \u001b[43mmake_server\u001b[49m\u001b[43m(\u001b[49m\n\u001b[1;32m    958\u001b[0m \u001b[43m    \u001b[49m\u001b[43mhostname\u001b[49m\u001b[43m,\u001b[49m\n\u001b[1;32m    959\u001b[0m \u001b[43m    \u001b[49m\u001b[43mport\u001b[49m\u001b[43m,\u001b[49m\n\u001b[1;32m    960\u001b[0m \u001b[43m    \u001b[49m\u001b[43mapplication\u001b[49m\u001b[43m,\u001b[49m\n\u001b[1;32m    961\u001b[0m \u001b[43m    \u001b[49m\u001b[43mthreaded\u001b[49m\u001b[43m,\u001b[49m\n\u001b[1;32m    962\u001b[0m \u001b[43m    \u001b[49m\u001b[43mprocesses\u001b[49m\u001b[43m,\u001b[49m\n\u001b[1;32m    963\u001b[0m \u001b[43m    \u001b[49m\u001b[43mrequest_handler\u001b[49m\u001b[43m,\u001b[49m\n\u001b[1;32m    964\u001b[0m \u001b[43m    \u001b[49m\u001b[43mpassthrough_errors\u001b[49m\u001b[43m,\u001b[49m\n\u001b[1;32m    965\u001b[0m \u001b[43m    \u001b[49m\u001b[43mssl_context\u001b[49m\u001b[43m,\u001b[49m\n\u001b[1;32m    966\u001b[0m \u001b[43m    \u001b[49m\u001b[43mfd\u001b[49m\u001b[38;5;241;43m=\u001b[39;49m\u001b[43mfd\u001b[49m\u001b[43m,\u001b[49m\n\u001b[1;32m    967\u001b[0m \u001b[43m\u001b[49m\u001b[43m)\u001b[49m\n\u001b[1;32m    968\u001b[0m \u001b[38;5;28;01mif\u001b[39;00m fd \u001b[38;5;129;01mis\u001b[39;00m \u001b[38;5;28;01mNone\u001b[39;00m:\n\u001b[1;32m    969\u001b[0m     log_startup(srv\u001b[38;5;241m.\u001b[39msocket)\n",
      "File \u001b[0;32m~/miniforge3/envs/jedi/lib/python3.8/site-packages/werkzeug/serving.py:789\u001b[0m, in \u001b[0;36mmake_server\u001b[0;34m(host, port, app, threaded, processes, request_handler, passthrough_errors, ssl_context, fd)\u001b[0m\n\u001b[1;32m    787\u001b[0m     \u001b[38;5;28;01mraise\u001b[39;00m \u001b[38;5;167;01mValueError\u001b[39;00m(\u001b[38;5;124m\"\u001b[39m\u001b[38;5;124mcannot have a multithreaded and multi process server.\u001b[39m\u001b[38;5;124m\"\u001b[39m)\n\u001b[1;32m    788\u001b[0m \u001b[38;5;28;01melif\u001b[39;00m threaded:\n\u001b[0;32m--> 789\u001b[0m     \u001b[38;5;28;01mreturn\u001b[39;00m \u001b[43mThreadedWSGIServer\u001b[49m\u001b[43m(\u001b[49m\n\u001b[1;32m    790\u001b[0m \u001b[43m        \u001b[49m\u001b[43mhost\u001b[49m\u001b[43m,\u001b[49m\u001b[43m \u001b[49m\u001b[43mport\u001b[49m\u001b[43m,\u001b[49m\u001b[43m \u001b[49m\u001b[43mapp\u001b[49m\u001b[43m,\u001b[49m\u001b[43m \u001b[49m\u001b[43mrequest_handler\u001b[49m\u001b[43m,\u001b[49m\u001b[43m \u001b[49m\u001b[43mpassthrough_errors\u001b[49m\u001b[43m,\u001b[49m\u001b[43m \u001b[49m\u001b[43mssl_context\u001b[49m\u001b[43m,\u001b[49m\u001b[43m \u001b[49m\u001b[43mfd\u001b[49m\u001b[38;5;241;43m=\u001b[39;49m\u001b[43mfd\u001b[49m\n\u001b[1;32m    791\u001b[0m \u001b[43m    \u001b[49m\u001b[43m)\u001b[49m\n\u001b[1;32m    792\u001b[0m \u001b[38;5;28;01melif\u001b[39;00m processes \u001b[38;5;241m>\u001b[39m \u001b[38;5;241m1\u001b[39m:\n\u001b[1;32m    793\u001b[0m     \u001b[38;5;28;01mreturn\u001b[39;00m ForkingWSGIServer(\n\u001b[1;32m    794\u001b[0m         host,\n\u001b[1;32m    795\u001b[0m         port,\n\u001b[0;32m   (...)\u001b[0m\n\u001b[1;32m    801\u001b[0m         fd\u001b[38;5;241m=\u001b[39mfd,\n\u001b[1;32m    802\u001b[0m     )\n",
      "File \u001b[0;32m~/miniforge3/envs/jedi/lib/python3.8/site-packages/werkzeug/serving.py:693\u001b[0m, in \u001b[0;36mBaseWSGIServer.__init__\u001b[0;34m(self, host, port, app, handler, passthrough_errors, ssl_context, fd)\u001b[0m\n\u001b[1;32m    690\u001b[0m     \u001b[38;5;28;01mif\u001b[39;00m os\u001b[38;5;241m.\u001b[39mpath\u001b[38;5;241m.\u001b[39mexists(server_address):\n\u001b[1;32m    691\u001b[0m         os\u001b[38;5;241m.\u001b[39munlink(server_address)\n\u001b[0;32m--> 693\u001b[0m \u001b[38;5;28;43msuper\u001b[39;49m\u001b[43m(\u001b[49m\u001b[43m)\u001b[49m\u001b[38;5;241;43m.\u001b[39;49m\u001b[38;5;21;43m__init__\u001b[39;49m\u001b[43m(\u001b[49m\u001b[43mserver_address\u001b[49m\u001b[43m,\u001b[49m\u001b[43m \u001b[49m\u001b[43mhandler\u001b[49m\u001b[43m)\u001b[49m  \u001b[38;5;66;03m# type: ignore\u001b[39;00m\n\u001b[1;32m    695\u001b[0m \u001b[38;5;28mself\u001b[39m\u001b[38;5;241m.\u001b[39mapp \u001b[38;5;241m=\u001b[39m app\n\u001b[1;32m    696\u001b[0m \u001b[38;5;28mself\u001b[39m\u001b[38;5;241m.\u001b[39mpassthrough_errors \u001b[38;5;241m=\u001b[39m passthrough_errors\n",
      "File \u001b[0;32m~/miniforge3/envs/jedi/lib/python3.8/socketserver.py:452\u001b[0m, in \u001b[0;36mTCPServer.__init__\u001b[0;34m(self, server_address, RequestHandlerClass, bind_and_activate)\u001b[0m\n\u001b[1;32m    450\u001b[0m \u001b[38;5;28;01mif\u001b[39;00m bind_and_activate:\n\u001b[1;32m    451\u001b[0m     \u001b[38;5;28;01mtry\u001b[39;00m:\n\u001b[0;32m--> 452\u001b[0m         \u001b[38;5;28;43mself\u001b[39;49m\u001b[38;5;241;43m.\u001b[39;49m\u001b[43mserver_bind\u001b[49m\u001b[43m(\u001b[49m\u001b[43m)\u001b[49m\n\u001b[1;32m    453\u001b[0m         \u001b[38;5;28mself\u001b[39m\u001b[38;5;241m.\u001b[39mserver_activate()\n\u001b[1;32m    454\u001b[0m     \u001b[38;5;28;01mexcept\u001b[39;00m:\n",
      "File \u001b[0;32m~/miniforge3/envs/jedi/lib/python3.8/http/server.py:138\u001b[0m, in \u001b[0;36mHTTPServer.server_bind\u001b[0;34m(self)\u001b[0m\n\u001b[1;32m    136\u001b[0m \u001b[38;5;28;01mdef\u001b[39;00m \u001b[38;5;21mserver_bind\u001b[39m(\u001b[38;5;28mself\u001b[39m):\n\u001b[1;32m    137\u001b[0m     \u001b[38;5;124;03m\"\"\"Override server_bind to store the server name.\"\"\"\u001b[39;00m\n\u001b[0;32m--> 138\u001b[0m     \u001b[43msocketserver\u001b[49m\u001b[38;5;241;43m.\u001b[39;49m\u001b[43mTCPServer\u001b[49m\u001b[38;5;241;43m.\u001b[39;49m\u001b[43mserver_bind\u001b[49m\u001b[43m(\u001b[49m\u001b[38;5;28;43mself\u001b[39;49m\u001b[43m)\u001b[49m\n\u001b[1;32m    139\u001b[0m     host, port \u001b[38;5;241m=\u001b[39m \u001b[38;5;28mself\u001b[39m\u001b[38;5;241m.\u001b[39mserver_address[:\u001b[38;5;241m2\u001b[39m]\n\u001b[1;32m    140\u001b[0m     \u001b[38;5;28mself\u001b[39m\u001b[38;5;241m.\u001b[39mserver_name \u001b[38;5;241m=\u001b[39m socket\u001b[38;5;241m.\u001b[39mgetfqdn(host)\n",
      "File \u001b[0;32m~/miniforge3/envs/jedi/lib/python3.8/socketserver.py:466\u001b[0m, in \u001b[0;36mTCPServer.server_bind\u001b[0;34m(self)\u001b[0m\n\u001b[1;32m    464\u001b[0m \u001b[38;5;28;01mif\u001b[39;00m \u001b[38;5;28mself\u001b[39m\u001b[38;5;241m.\u001b[39mallow_reuse_address:\n\u001b[1;32m    465\u001b[0m     \u001b[38;5;28mself\u001b[39m\u001b[38;5;241m.\u001b[39msocket\u001b[38;5;241m.\u001b[39msetsockopt(socket\u001b[38;5;241m.\u001b[39mSOL_SOCKET, socket\u001b[38;5;241m.\u001b[39mSO_REUSEADDR, \u001b[38;5;241m1\u001b[39m)\n\u001b[0;32m--> 466\u001b[0m \u001b[38;5;28;43mself\u001b[39;49m\u001b[38;5;241;43m.\u001b[39;49m\u001b[43msocket\u001b[49m\u001b[38;5;241;43m.\u001b[39;49m\u001b[43mbind\u001b[49m\u001b[43m(\u001b[49m\u001b[38;5;28;43mself\u001b[39;49m\u001b[38;5;241;43m.\u001b[39;49m\u001b[43mserver_address\u001b[49m\u001b[43m)\u001b[49m\n\u001b[1;32m    467\u001b[0m \u001b[38;5;28mself\u001b[39m\u001b[38;5;241m.\u001b[39mserver_address \u001b[38;5;241m=\u001b[39m \u001b[38;5;28mself\u001b[39m\u001b[38;5;241m.\u001b[39msocket\u001b[38;5;241m.\u001b[39mgetsockname()\n",
      "\u001b[0;31mOSError\u001b[0m: [Errno 48] Address already in use"
     ]
    }
   ],
   "source": [
    "app.run(host='0.0.0.0', port=5000)"
   ]
  },
  {
   "cell_type": "code",
   "execution_count": null,
   "id": "f0e87d37",
   "metadata": {},
   "outputs": [],
   "source": [
    "# http://127.0.0.1:5000/HeartDisease?Age=40&RestingBP=180&Cholesterol=200&MaxHR=180"
   ]
  }
 ],
 "metadata": {
  "kernelspec": {
   "display_name": "Python 3 (ipykernel)",
   "language": "python",
   "name": "python3"
  },
  "language_info": {
   "codemirror_mode": {
    "name": "ipython",
    "version": 3
   },
   "file_extension": ".py",
   "mimetype": "text/x-python",
   "name": "python",
   "nbconvert_exporter": "python",
   "pygments_lexer": "ipython3",
   "version": "3.8.13"
  }
 },
 "nbformat": 4,
 "nbformat_minor": 5
}
